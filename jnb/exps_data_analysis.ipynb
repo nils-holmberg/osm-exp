{
  "nbformat": 4,
  "nbformat_minor": 0,
  "metadata": {
    "colab": {
      "provenance": []
    },
    "kernelspec": {
      "name": "python3",
      "display_name": "Python 3"
    },
    "language_info": {
      "name": "python"
    }
  },
  "cells": [
    {
      "cell_type": "markdown",
      "source": [
        "[![Open In Colab](https://colab.research.google.com/assets/colab-badge.svg)](https://colab.research.google.com/github/nils-holmberg/osm-exp/blob/main/jnb/exps_data_analysis.ipynb)"
      ],
      "metadata": {
        "id": "Xm6gKMiHNE_v"
      }
    },
    {
      "cell_type": "code",
      "source": [
        "!git clone https://github.com/nils-holmberg/osm-exp.git"
      ],
      "metadata": {
        "colab": {
          "base_uri": "https://localhost:8080/"
        },
        "id": "Gez9PtngLkPU",
        "outputId": "026a39f8-d409-4875-8995-592d1061a3a2"
      },
      "execution_count": 1,
      "outputs": [
        {
          "output_type": "stream",
          "name": "stdout",
          "text": [
            "Cloning into 'osm-exp'...\n",
            "remote: Enumerating objects: 234, done.\u001b[K\n",
            "remote: Counting objects: 100% (87/87), done.\u001b[K\n",
            "remote: Compressing objects: 100% (63/63), done.\u001b[K\n",
            "remote: Total 234 (delta 42), reused 63 (delta 23), pack-reused 147 (from 1)\u001b[K\n",
            "Receiving objects: 100% (234/234), 1.26 MiB | 5.91 MiB/s, done.\n",
            "Resolving deltas: 100% (116/116), done.\n"
          ]
        }
      ]
    },
    {
      "cell_type": "code",
      "source": [
        "import pandas as pd\n",
        "\n",
        "# Read the first sheet into a DataFrame called 'df1'\n",
        "df1 = pd.read_excel('/content/osm-exp/csv/exps-data.xlsx', sheet_name=0)\n",
        "\n",
        "# Read the second sheet into a DataFrame called 'df2'\n",
        "df2 = pd.read_excel('/content/osm-exp/csv/exps-data.xlsx', sheet_name=1)\n",
        "\n",
        "# Print some info\n",
        "df1.info()\n",
        "df2.info()"
      ],
      "metadata": {
        "colab": {
          "base_uri": "https://localhost:8080/"
        },
        "id": "YLU9YVAsQ4hc",
        "outputId": "8031511c-e220-4b24-c428-4c85ed5191ee"
      },
      "execution_count": 2,
      "outputs": [
        {
          "output_type": "stream",
          "name": "stdout",
          "text": [
            "<class 'pandas.core.frame.DataFrame'>\n",
            "RangeIndex: 50 entries, 0 to 49\n",
            "Data columns (total 6 columns):\n",
            " #   Column     Non-Null Count  Dtype  \n",
            "---  ------     --------------  -----  \n",
            " 0   timestamp  50 non-null     int64  \n",
            " 1   attention  50 non-null     float64\n",
            " 2   attitude   50 non-null     int64  \n",
            " 3   condition  50 non-null     object \n",
            " 4   age        50 non-null     int64  \n",
            " 5   gender     50 non-null     object \n",
            "dtypes: float64(1), int64(3), object(2)\n",
            "memory usage: 2.5+ KB\n",
            "<class 'pandas.core.frame.DataFrame'>\n",
            "RangeIndex: 50 entries, 0 to 49\n",
            "Data columns (total 6 columns):\n",
            " #   Column     Non-Null Count  Dtype  \n",
            "---  ------     --------------  -----  \n",
            " 0   timestamp  50 non-null     int64  \n",
            " 1   attention  50 non-null     float64\n",
            " 2   attitude   50 non-null     int64  \n",
            " 3   condition  50 non-null     object \n",
            " 4   age        50 non-null     int64  \n",
            " 5   gender     50 non-null     object \n",
            "dtypes: float64(1), int64(3), object(2)\n",
            "memory usage: 2.5+ KB\n"
          ]
        }
      ]
    }
  ]
}