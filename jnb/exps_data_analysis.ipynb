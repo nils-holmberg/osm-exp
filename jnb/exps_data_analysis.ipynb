{
  "nbformat": 4,
  "nbformat_minor": 0,
  "metadata": {
    "colab": {
      "provenance": []
    },
    "kernelspec": {
      "name": "python3",
      "display_name": "Python 3"
    },
    "language_info": {
      "name": "python"
    }
  },
  "cells": [
    {
      "cell_type": "markdown",
      "source": [
        "[![Open In Colab](https://colab.research.google.com/assets/colab-badge.svg)](https://colab.research.google.com/github/nils-holmberg/osm-exp/blob/main/jnb/exps_data_analysis.ipynb)"
      ],
      "metadata": {
        "id": "Xm6gKMiHNE_v"
      }
    },
    {
      "cell_type": "code",
      "source": [
        "!git clone https://github.com/nils-holmberg/osm-exp.git"
      ],
      "metadata": {
        "id": "Gez9PtngLkPU"
      },
      "execution_count": null,
      "outputs": []
    }
  ]
}